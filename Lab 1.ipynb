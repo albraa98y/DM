{
 "cells": [
  {
   "cell_type": "code",
   "execution_count": 13,
   "metadata": {},
   "outputs": [
    {
     "name": "stdout",
     "output_type": "stream",
     "text": [
      "Hello World!\n"
     ]
    }
   ],
   "source": [
    " print(\"Hello World!\")"
   ]
  },
  {
   "cell_type": "raw",
   "metadata": {},
   "source": [
    "Raw Text is embedded by selecting “RawNBConvert” in the toolbar dropdown list,\n",
    "typing text into the cell, and hitting Shift + Enter. Demonstrate here, how did you do\n",
    "that!"
   ]
  },
  {
   "cell_type": "markdown",
   "metadata": {},
   "source": [
    "https://www.taibahu.edu.sa"
   ]
  },
  {
   "cell_type": "markdown",
   "metadata": {},
   "source": [
    "[click this link]( https://www.taibahu.edu.sa “Taibah\n",
    "University”)\n"
   ]
  },
  {
   "cell_type": "markdown",
   "metadata": {},
   "source": [
    "$$c= \\ sqrt{a^2 +b^2}$$"
   ]
  },
  {
   "cell_type": "markdown",
   "metadata": {},
   "source": [
    "$$e^{i\\pi}+ 1=0$$"
   ]
  },
  {
   "cell_type": "markdown",
   "metadata": {},
   "source": [
    "$$e^x=\\sum_{i=0}^\\infty \\frac{1}{i!}x^i$$"
   ]
  },
  {
   "cell_type": "markdown",
   "metadata": {},
   "source": [
    "$$r'F(k)=\\int_{-\\infty}^{-\\infty} f(x) e^{2\\pi i k} dx'$$"
   ]
  },
  {
   "cell_type": "code",
   "execution_count": null,
   "metadata": {},
   "outputs": [],
   "source": [
    "$$\\begin{pmatrix}\n",
    "1 & a_1 & a_1^2 & \\cdots & a_1^n \\\\\n",
    "1 & a_2 & a_2^2 & \\cdots & a_2^n \\\\\n",
    "\\vdots & \\vdots& \\vdots & \\ddots & \\vdots \\\\\n",
    "1 & a_m & a_m^2 & \\cdots & a_m^n \n",
    "\\end{pmatrix}$$"
   ]
  }
 ],
 "metadata": {
  "kernelspec": {
   "display_name": "Python 3",
   "language": "python",
   "name": "python3"
  },
  "language_info": {
   "codemirror_mode": {
    "name": "ipython",
    "version": 3
   },
   "file_extension": ".py",
   "mimetype": "text/x-python",
   "name": "python",
   "nbconvert_exporter": "python",
   "pygments_lexer": "ipython3",
   "version": "3.8.5"
  }
 },
 "nbformat": 4,
 "nbformat_minor": 4
}
