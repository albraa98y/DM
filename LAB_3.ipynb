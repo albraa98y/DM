{
 "cells": [
  {
   "cell_type": "markdown",
   "metadata": {},
   "source": [
    "# Exercise 1.1"
   ]
  },
  {
   "cell_type": "code",
   "execution_count": 1,
   "metadata": {},
   "outputs": [],
   "source": [
    "def conform(fav):\n",
    "    fav = 42\n",
    "    return fav"
   ]
  },
  {
   "cell_type": "code",
   "execution_count": 2,
   "metadata": {},
   "outputs": [
    {
     "name": "stdout",
     "output_type": "stream",
     "text": [
      "welcome!\n",
      "my favorite # is  7\n"
     ]
    }
   ],
   "source": [
    "if __name__== \"__main__\":\n",
    "    print('welcome!')\n",
    "    fav =7\n",
    "    conform(fav)\n",
    "    print(\"my favorite # is \" , fav)"
   ]
  },
  {
   "cell_type": "markdown",
   "metadata": {},
   "source": [
    "# Exercise 1.2"
   ]
  },
  {
   "cell_type": "code",
   "execution_count": 3,
   "metadata": {},
   "outputs": [
    {
     "name": "stdout",
     "output_type": "stream",
     "text": [
      "inside the function  {'a': 28, 'b': 25, 'c': 32, 'd': 25, 'e': 30, 'f': 28}\n",
      "outside the function: {'a': 28, 'b': 25, 'c': 32, 'd': 25, 'e': 30, 'f': 28}\n"
     ]
    }
   ],
   "source": [
    "student={'a':28, 'b':25, 'c':32, 'd':25}\n",
    "def test(student):\n",
    "    new={'e':30, 'f':28}\n",
    "    student.update(new)\n",
    "    print(\"inside the function \",student)\n",
    "    return\n",
    "test(student)\n",
    "print(\"outside the function:\",student)"
   ]
  },
  {
   "cell_type": "markdown",
   "metadata": {},
   "source": [
    "# Exercise 2.1"
   ]
  },
  {
   "cell_type": "code",
   "execution_count": 4,
   "metadata": {},
   "outputs": [
    {
     "name": "stdout",
     "output_type": "stream",
     "text": [
      "Albraa Morshed\n",
      "['Albraa Morshed']\n"
     ]
    }
   ],
   "source": [
    "class Student:\n",
    "    \n",
    "    def __init__(self, name):\n",
    "        self.name=name\n",
    "        self.course_list= []\n",
    "        \n",
    "    def add(self, new_course):\n",
    "        self.course_list.append(new_course)\n",
    "        \n",
    "std=Student(\"set_your_name\")\n",
    "txt = input(\"\")\n",
    "std.add(txt)\n",
    "print(std.course_list)"
   ]
  },
  {
   "cell_type": "code",
   "execution_count": 5,
   "metadata": {},
   "outputs": [
    {
     "name": "stdout",
     "output_type": "stream",
     "text": [
      "Albraa Morshed\n",
      "Information System\n"
     ]
    }
   ],
   "source": [
    "class Person:\n",
    "    def __init__(self,fname,lname):\n",
    "        self.firstname=fname\n",
    "        self.lastname=lname\n",
    "        \n",
    "    def printname(self):\n",
    "        print(self.firstname,self.lastname)\n",
    "        \n",
    "class Professor(Person):\n",
    "    def __init__(self,fname,lname):#E2.3\n",
    "        self.department='Information System'\n",
    "        Person. __init__(self,fname,lname)\n",
    "        \n",
    "mhd=Professor(\"Albraa\",\"Morshed\")\n",
    "mhd.printname()\n",
    "print(mhd.department)"
   ]
  },
  {
   "cell_type": "code",
   "execution_count": null,
   "metadata": {},
   "outputs": [],
   "source": []
  }
 ],
 "metadata": {
  "kernelspec": {
   "display_name": "Python 3",
   "language": "python",
   "name": "python3"
  },
  "language_info": {
   "codemirror_mode": {
    "name": "ipython",
    "version": 3
   },
   "file_extension": ".py",
   "mimetype": "text/x-python",
   "name": "python",
   "nbconvert_exporter": "python",
   "pygments_lexer": "ipython3",
   "version": "3.8.5"
  }
 },
 "nbformat": 4,
 "nbformat_minor": 4
}
